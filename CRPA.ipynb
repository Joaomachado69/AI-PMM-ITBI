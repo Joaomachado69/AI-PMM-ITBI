{
  "nbformat": 4,
  "nbformat_minor": 0,
  "metadata": {
    "colab": {
      "provenance": [],
      "authorship_tag": "ABX9TyNeWLVsO2CDpQ3rmQ3GoNHk",
      "include_colab_link": true
    },
    "kernelspec": {
      "name": "python3",
      "display_name": "Python 3"
    },
    "language_info": {
      "name": "python"
    }
  },
  "cells": [
    {
      "cell_type": "markdown",
      "metadata": {
        "id": "view-in-github",
        "colab_type": "text"
      },
      "source": [
        "<a href=\"https://colab.research.google.com/github/Joaomachado69/AI-PMM-ITBI/blob/joao_machado/CRPA.ipynb\" target=\"_parent\"><img src=\"https://colab.research.google.com/assets/colab-badge.svg\" alt=\"Open In Colab\"/></a>"
      ]
    },
    {
      "cell_type": "code",
      "execution_count": 37,
      "metadata": {
        "id": "OV4uk17o7do5"
      },
      "outputs": [],
      "source": [
        "import lightgbm as lgb\n",
        "from sklearn.model_selection import cross_val_score\n",
        "import pandas as pd \n",
        "import numpy as np\n",
        "import math\n",
        "from sklearn.model_selection import train_test_split\n",
        "from sklearn import metrics\n",
        "from sklearn.metrics import mean_squared_error\n"
      ]
    },
    {
      "cell_type": "code",
      "source": [
        "df_CRPA = pd.read_csv(\"zip-code-breakdowns-1.csv\")\n",
        "df_CRPA.head()"
      ],
      "metadata": {
        "colab": {
          "base_uri": "https://localhost:8080/",
          "height": 352
        },
        "id": "qgFy0Lsa75bq",
        "outputId": "523bf146-dfad-40f5-8fb2-943828aed33c"
      },
      "execution_count": 12,
      "outputs": [
        {
          "output_type": "execute_result",
          "data": {
            "text/plain": [
              "   JURISDICTION NAME  COUNT PARTICIPANTS  COUNT FEMALE  PERCENT FEMALE  \\\n",
              "0              10001                  44            22            0.50   \n",
              "1              10002                  35            19            0.54   \n",
              "2              10003                   1             1            1.00   \n",
              "3              10004                   0             0            0.00   \n",
              "4              10005                   2             2            1.00   \n",
              "\n",
              "   COUNT MALE  PERCENT MALE  COUNT GENDER UNKNOWN  PERCENT GENDER UNKNOWN  \\\n",
              "0          22          0.50                     0                       0   \n",
              "1          16          0.46                     0                       0   \n",
              "2           0          0.00                     0                       0   \n",
              "3           0          0.00                     0                       0   \n",
              "4           0          0.00                     0                       0   \n",
              "\n",
              "   COUNT GENDER TOTAL  PERCENT GENDER TOTAL  ...  COUNT CITIZEN STATUS TOTAL  \\\n",
              "0                  44                   100  ...                          44   \n",
              "1                  35                   100  ...                          35   \n",
              "2                   1                   100  ...                           1   \n",
              "3                   0                     0  ...                           0   \n",
              "4                   2                   100  ...                           2   \n",
              "\n",
              "   PERCENT CITIZEN STATUS TOTAL  COUNT RECEIVES PUBLIC ASSISTANCE  \\\n",
              "0                           100                                20   \n",
              "1                           100                                 2   \n",
              "2                           100                                 0   \n",
              "3                             0                                 0   \n",
              "4                           100                                 0   \n",
              "\n",
              "   PERCENT RECEIVES PUBLIC ASSISTANCE  COUNT NRECEIVES PUBLIC ASSISTANCE  \\\n",
              "0                                0.45                                 24   \n",
              "1                                0.06                                 33   \n",
              "2                                0.00                                  1   \n",
              "3                                0.00                                  0   \n",
              "4                                0.00                                  2   \n",
              "\n",
              "   PERCENT NRECEIVES PUBLIC ASSISTANCE  COUNT PUBLIC ASSISTANCE UNKNOWN  \\\n",
              "0                                 0.55                                0   \n",
              "1                                 0.94                                0   \n",
              "2                                 1.00                                0   \n",
              "3                                 0.00                                0   \n",
              "4                                 1.00                                0   \n",
              "\n",
              "   PERCENT PUBLIC ASSISTANCE UNKNOWN  COUNT PUBLIC ASSISTANCE TOTAL  \\\n",
              "0                                  0                             44   \n",
              "1                                  0                             35   \n",
              "2                                  0                              1   \n",
              "3                                  0                              0   \n",
              "4                                  0                              2   \n",
              "\n",
              "   PERCENT PUBLIC ASSISTANCE TOTAL  \n",
              "0                              100  \n",
              "1                              100  \n",
              "2                              100  \n",
              "3                                0  \n",
              "4                              100  \n",
              "\n",
              "[5 rows x 46 columns]"
            ],
            "text/html": [
              "\n",
              "  <div id=\"df-7e82e436-f0d4-41db-b585-1d3f3a10cf9b\">\n",
              "    <div class=\"colab-df-container\">\n",
              "      <div>\n",
              "<style scoped>\n",
              "    .dataframe tbody tr th:only-of-type {\n",
              "        vertical-align: middle;\n",
              "    }\n",
              "\n",
              "    .dataframe tbody tr th {\n",
              "        vertical-align: top;\n",
              "    }\n",
              "\n",
              "    .dataframe thead th {\n",
              "        text-align: right;\n",
              "    }\n",
              "</style>\n",
              "<table border=\"1\" class=\"dataframe\">\n",
              "  <thead>\n",
              "    <tr style=\"text-align: right;\">\n",
              "      <th></th>\n",
              "      <th>JURISDICTION NAME</th>\n",
              "      <th>COUNT PARTICIPANTS</th>\n",
              "      <th>COUNT FEMALE</th>\n",
              "      <th>PERCENT FEMALE</th>\n",
              "      <th>COUNT MALE</th>\n",
              "      <th>PERCENT MALE</th>\n",
              "      <th>COUNT GENDER UNKNOWN</th>\n",
              "      <th>PERCENT GENDER UNKNOWN</th>\n",
              "      <th>COUNT GENDER TOTAL</th>\n",
              "      <th>PERCENT GENDER TOTAL</th>\n",
              "      <th>...</th>\n",
              "      <th>COUNT CITIZEN STATUS TOTAL</th>\n",
              "      <th>PERCENT CITIZEN STATUS TOTAL</th>\n",
              "      <th>COUNT RECEIVES PUBLIC ASSISTANCE</th>\n",
              "      <th>PERCENT RECEIVES PUBLIC ASSISTANCE</th>\n",
              "      <th>COUNT NRECEIVES PUBLIC ASSISTANCE</th>\n",
              "      <th>PERCENT NRECEIVES PUBLIC ASSISTANCE</th>\n",
              "      <th>COUNT PUBLIC ASSISTANCE UNKNOWN</th>\n",
              "      <th>PERCENT PUBLIC ASSISTANCE UNKNOWN</th>\n",
              "      <th>COUNT PUBLIC ASSISTANCE TOTAL</th>\n",
              "      <th>PERCENT PUBLIC ASSISTANCE TOTAL</th>\n",
              "    </tr>\n",
              "  </thead>\n",
              "  <tbody>\n",
              "    <tr>\n",
              "      <th>0</th>\n",
              "      <td>10001</td>\n",
              "      <td>44</td>\n",
              "      <td>22</td>\n",
              "      <td>0.50</td>\n",
              "      <td>22</td>\n",
              "      <td>0.50</td>\n",
              "      <td>0</td>\n",
              "      <td>0</td>\n",
              "      <td>44</td>\n",
              "      <td>100</td>\n",
              "      <td>...</td>\n",
              "      <td>44</td>\n",
              "      <td>100</td>\n",
              "      <td>20</td>\n",
              "      <td>0.45</td>\n",
              "      <td>24</td>\n",
              "      <td>0.55</td>\n",
              "      <td>0</td>\n",
              "      <td>0</td>\n",
              "      <td>44</td>\n",
              "      <td>100</td>\n",
              "    </tr>\n",
              "    <tr>\n",
              "      <th>1</th>\n",
              "      <td>10002</td>\n",
              "      <td>35</td>\n",
              "      <td>19</td>\n",
              "      <td>0.54</td>\n",
              "      <td>16</td>\n",
              "      <td>0.46</td>\n",
              "      <td>0</td>\n",
              "      <td>0</td>\n",
              "      <td>35</td>\n",
              "      <td>100</td>\n",
              "      <td>...</td>\n",
              "      <td>35</td>\n",
              "      <td>100</td>\n",
              "      <td>2</td>\n",
              "      <td>0.06</td>\n",
              "      <td>33</td>\n",
              "      <td>0.94</td>\n",
              "      <td>0</td>\n",
              "      <td>0</td>\n",
              "      <td>35</td>\n",
              "      <td>100</td>\n",
              "    </tr>\n",
              "    <tr>\n",
              "      <th>2</th>\n",
              "      <td>10003</td>\n",
              "      <td>1</td>\n",
              "      <td>1</td>\n",
              "      <td>1.00</td>\n",
              "      <td>0</td>\n",
              "      <td>0.00</td>\n",
              "      <td>0</td>\n",
              "      <td>0</td>\n",
              "      <td>1</td>\n",
              "      <td>100</td>\n",
              "      <td>...</td>\n",
              "      <td>1</td>\n",
              "      <td>100</td>\n",
              "      <td>0</td>\n",
              "      <td>0.00</td>\n",
              "      <td>1</td>\n",
              "      <td>1.00</td>\n",
              "      <td>0</td>\n",
              "      <td>0</td>\n",
              "      <td>1</td>\n",
              "      <td>100</td>\n",
              "    </tr>\n",
              "    <tr>\n",
              "      <th>3</th>\n",
              "      <td>10004</td>\n",
              "      <td>0</td>\n",
              "      <td>0</td>\n",
              "      <td>0.00</td>\n",
              "      <td>0</td>\n",
              "      <td>0.00</td>\n",
              "      <td>0</td>\n",
              "      <td>0</td>\n",
              "      <td>0</td>\n",
              "      <td>0</td>\n",
              "      <td>...</td>\n",
              "      <td>0</td>\n",
              "      <td>0</td>\n",
              "      <td>0</td>\n",
              "      <td>0.00</td>\n",
              "      <td>0</td>\n",
              "      <td>0.00</td>\n",
              "      <td>0</td>\n",
              "      <td>0</td>\n",
              "      <td>0</td>\n",
              "      <td>0</td>\n",
              "    </tr>\n",
              "    <tr>\n",
              "      <th>4</th>\n",
              "      <td>10005</td>\n",
              "      <td>2</td>\n",
              "      <td>2</td>\n",
              "      <td>1.00</td>\n",
              "      <td>0</td>\n",
              "      <td>0.00</td>\n",
              "      <td>0</td>\n",
              "      <td>0</td>\n",
              "      <td>2</td>\n",
              "      <td>100</td>\n",
              "      <td>...</td>\n",
              "      <td>2</td>\n",
              "      <td>100</td>\n",
              "      <td>0</td>\n",
              "      <td>0.00</td>\n",
              "      <td>2</td>\n",
              "      <td>1.00</td>\n",
              "      <td>0</td>\n",
              "      <td>0</td>\n",
              "      <td>2</td>\n",
              "      <td>100</td>\n",
              "    </tr>\n",
              "  </tbody>\n",
              "</table>\n",
              "<p>5 rows × 46 columns</p>\n",
              "</div>\n",
              "      <button class=\"colab-df-convert\" onclick=\"convertToInteractive('df-7e82e436-f0d4-41db-b585-1d3f3a10cf9b')\"\n",
              "              title=\"Convert this dataframe to an interactive table.\"\n",
              "              style=\"display:none;\">\n",
              "        \n",
              "  <svg xmlns=\"http://www.w3.org/2000/svg\" height=\"24px\"viewBox=\"0 0 24 24\"\n",
              "       width=\"24px\">\n",
              "    <path d=\"M0 0h24v24H0V0z\" fill=\"none\"/>\n",
              "    <path d=\"M18.56 5.44l.94 2.06.94-2.06 2.06-.94-2.06-.94-.94-2.06-.94 2.06-2.06.94zm-11 1L8.5 8.5l.94-2.06 2.06-.94-2.06-.94L8.5 2.5l-.94 2.06-2.06.94zm10 10l.94 2.06.94-2.06 2.06-.94-2.06-.94-.94-2.06-.94 2.06-2.06.94z\"/><path d=\"M17.41 7.96l-1.37-1.37c-.4-.4-.92-.59-1.43-.59-.52 0-1.04.2-1.43.59L10.3 9.45l-7.72 7.72c-.78.78-.78 2.05 0 2.83L4 21.41c.39.39.9.59 1.41.59.51 0 1.02-.2 1.41-.59l7.78-7.78 2.81-2.81c.8-.78.8-2.07 0-2.86zM5.41 20L4 18.59l7.72-7.72 1.47 1.35L5.41 20z\"/>\n",
              "  </svg>\n",
              "      </button>\n",
              "      \n",
              "  <style>\n",
              "    .colab-df-container {\n",
              "      display:flex;\n",
              "      flex-wrap:wrap;\n",
              "      gap: 12px;\n",
              "    }\n",
              "\n",
              "    .colab-df-convert {\n",
              "      background-color: #E8F0FE;\n",
              "      border: none;\n",
              "      border-radius: 50%;\n",
              "      cursor: pointer;\n",
              "      display: none;\n",
              "      fill: #1967D2;\n",
              "      height: 32px;\n",
              "      padding: 0 0 0 0;\n",
              "      width: 32px;\n",
              "    }\n",
              "\n",
              "    .colab-df-convert:hover {\n",
              "      background-color: #E2EBFA;\n",
              "      box-shadow: 0px 1px 2px rgba(60, 64, 67, 0.3), 0px 1px 3px 1px rgba(60, 64, 67, 0.15);\n",
              "      fill: #174EA6;\n",
              "    }\n",
              "\n",
              "    [theme=dark] .colab-df-convert {\n",
              "      background-color: #3B4455;\n",
              "      fill: #D2E3FC;\n",
              "    }\n",
              "\n",
              "    [theme=dark] .colab-df-convert:hover {\n",
              "      background-color: #434B5C;\n",
              "      box-shadow: 0px 1px 3px 1px rgba(0, 0, 0, 0.15);\n",
              "      filter: drop-shadow(0px 1px 2px rgba(0, 0, 0, 0.3));\n",
              "      fill: #FFFFFF;\n",
              "    }\n",
              "  </style>\n",
              "\n",
              "      <script>\n",
              "        const buttonEl =\n",
              "          document.querySelector('#df-7e82e436-f0d4-41db-b585-1d3f3a10cf9b button.colab-df-convert');\n",
              "        buttonEl.style.display =\n",
              "          google.colab.kernel.accessAllowed ? 'block' : 'none';\n",
              "\n",
              "        async function convertToInteractive(key) {\n",
              "          const element = document.querySelector('#df-7e82e436-f0d4-41db-b585-1d3f3a10cf9b');\n",
              "          const dataTable =\n",
              "            await google.colab.kernel.invokeFunction('convertToInteractive',\n",
              "                                                     [key], {});\n",
              "          if (!dataTable) return;\n",
              "\n",
              "          const docLinkHtml = 'Like what you see? Visit the ' +\n",
              "            '<a target=\"_blank\" href=https://colab.research.google.com/notebooks/data_table.ipynb>data table notebook</a>'\n",
              "            + ' to learn more about interactive tables.';\n",
              "          element.innerHTML = '';\n",
              "          dataTable['output_type'] = 'display_data';\n",
              "          await google.colab.output.renderOutput(dataTable, element);\n",
              "          const docLink = document.createElement('div');\n",
              "          docLink.innerHTML = docLinkHtml;\n",
              "          element.appendChild(docLink);\n",
              "        }\n",
              "      </script>\n",
              "    </div>\n",
              "  </div>\n",
              "  "
            ]
          },
          "metadata": {},
          "execution_count": 12
        }
      ]
    },
    {
      "cell_type": "code",
      "source": [
        "metrics.SCORERS.keys()"
      ],
      "metadata": {
        "colab": {
          "base_uri": "https://localhost:8080/"
        },
        "id": "ujJu8YshMeo_",
        "outputId": "14b747f5-8454-444a-a1eb-e33ca481ee4e"
      },
      "execution_count": 17,
      "outputs": [
        {
          "output_type": "execute_result",
          "data": {
            "text/plain": [
              "dict_keys(['explained_variance', 'r2', 'max_error', 'neg_median_absolute_error', 'neg_mean_absolute_error', 'neg_mean_absolute_percentage_error', 'neg_mean_squared_error', 'neg_mean_squared_log_error', 'neg_root_mean_squared_error', 'neg_mean_poisson_deviance', 'neg_mean_gamma_deviance', 'accuracy', 'top_k_accuracy', 'roc_auc', 'roc_auc_ovr', 'roc_auc_ovo', 'roc_auc_ovr_weighted', 'roc_auc_ovo_weighted', 'balanced_accuracy', 'average_precision', 'neg_log_loss', 'neg_brier_score', 'adjusted_rand_score', 'rand_score', 'homogeneity_score', 'completeness_score', 'v_measure_score', 'mutual_info_score', 'adjusted_mutual_info_score', 'normalized_mutual_info_score', 'fowlkes_mallows_score', 'precision', 'precision_macro', 'precision_micro', 'precision_samples', 'precision_weighted', 'recall', 'recall_macro', 'recall_micro', 'recall_samples', 'recall_weighted', 'f1', 'f1_macro', 'f1_micro', 'f1_samples', 'f1_weighted', 'jaccard', 'jaccard_macro', 'jaccard_micro', 'jaccard_samples', 'jaccard_weighted'])"
            ]
          },
          "metadata": {},
          "execution_count": 17
        }
      ]
    },
    {
      "cell_type": "code",
      "source": [
        "df_CRPA.describe()"
      ],
      "metadata": {
        "colab": {
          "base_uri": "https://localhost:8080/",
          "height": 446
        },
        "id": "cANXkYbXTuT0",
        "outputId": "7473a200-339a-4994-98b0-a6c340c6a255"
      },
      "execution_count": 19,
      "outputs": [
        {
          "output_type": "execute_result",
          "data": {
            "text/plain": [
              "       JURISDICTION NAME  COUNT PARTICIPANTS  COUNT FEMALE  PERCENT FEMALE  \\\n",
              "count         236.000000          236.000000    236.000000      236.000000   \n",
              "mean        11127.173729           17.661017     10.296610        0.243983   \n",
              "std          1052.431790           43.279737     28.189121        0.333677   \n",
              "min         10001.000000            0.000000      0.000000        0.000000   \n",
              "25%         10451.750000            0.000000      0.000000        0.000000   \n",
              "50%         11216.500000            0.000000      0.000000        0.000000   \n",
              "75%         11422.250000           13.000000      6.000000        0.515000   \n",
              "max         20459.000000          272.000000    194.000000        1.000000   \n",
              "\n",
              "       COUNT MALE  PERCENT MALE  COUNT GENDER UNKNOWN  PERCENT GENDER UNKNOWN  \\\n",
              "count  236.000000    236.000000                 236.0                   236.0   \n",
              "mean     7.364407      0.201017                   0.0                     0.0   \n",
              "std     18.880888      0.295731                   0.0                     0.0   \n",
              "min      0.000000      0.000000                   0.0                     0.0   \n",
              "25%      0.000000      0.000000                   0.0                     0.0   \n",
              "50%      0.000000      0.000000                   0.0                     0.0   \n",
              "75%      4.000000      0.400000                   0.0                     0.0   \n",
              "max    157.000000      1.000000                   0.0                     0.0   \n",
              "\n",
              "       COUNT GENDER TOTAL  PERCENT GENDER TOTAL  ...  \\\n",
              "count          236.000000            236.000000  ...   \n",
              "mean            17.661017             44.491525  ...   \n",
              "std             43.279737             49.801264  ...   \n",
              "min              0.000000              0.000000  ...   \n",
              "25%              0.000000              0.000000  ...   \n",
              "50%              0.000000              0.000000  ...   \n",
              "75%             13.000000            100.000000  ...   \n",
              "max            272.000000            100.000000  ...   \n",
              "\n",
              "       COUNT CITIZEN STATUS TOTAL  PERCENT CITIZEN STATUS TOTAL  \\\n",
              "count                  236.000000                    236.000000   \n",
              "mean                    17.661017                     44.487288   \n",
              "std                     43.279737                     49.796563   \n",
              "min                      0.000000                      0.000000   \n",
              "25%                      0.000000                      0.000000   \n",
              "50%                      0.000000                      0.000000   \n",
              "75%                     13.000000                    100.000000   \n",
              "max                    272.000000                    100.000000   \n",
              "\n",
              "       COUNT RECEIVES PUBLIC ASSISTANCE  PERCENT RECEIVES PUBLIC ASSISTANCE  \\\n",
              "count                        236.000000                          236.000000   \n",
              "mean                           5.974576                            0.139195   \n",
              "std                           16.803729                            0.227979   \n",
              "min                            0.000000                            0.000000   \n",
              "25%                            0.000000                            0.000000   \n",
              "50%                            0.000000                            0.000000   \n",
              "75%                            3.250000                            0.252500   \n",
              "max                          155.000000                            1.000000   \n",
              "\n",
              "       COUNT NRECEIVES PUBLIC ASSISTANCE  PERCENT NRECEIVES PUBLIC ASSISTANCE  \\\n",
              "count                         236.000000                           236.000000   \n",
              "mean                           11.686441                             0.305805   \n",
              "std                            29.369458                             0.380602   \n",
              "min                             0.000000                             0.000000   \n",
              "25%                             0.000000                             0.000000   \n",
              "50%                             0.000000                             0.000000   \n",
              "75%                             8.000000                             0.662500   \n",
              "max                           206.000000                             1.000000   \n",
              "\n",
              "       COUNT PUBLIC ASSISTANCE UNKNOWN  PERCENT PUBLIC ASSISTANCE UNKNOWN  \\\n",
              "count                            236.0                              236.0   \n",
              "mean                               0.0                                0.0   \n",
              "std                                0.0                                0.0   \n",
              "min                                0.0                                0.0   \n",
              "25%                                0.0                                0.0   \n",
              "50%                                0.0                                0.0   \n",
              "75%                                0.0                                0.0   \n",
              "max                                0.0                                0.0   \n",
              "\n",
              "       COUNT PUBLIC ASSISTANCE TOTAL  PERCENT PUBLIC ASSISTANCE TOTAL  \n",
              "count                     236.000000                       236.000000  \n",
              "mean                       17.661017                        44.491525  \n",
              "std                        43.279737                        49.801264  \n",
              "min                         0.000000                         0.000000  \n",
              "25%                         0.000000                         0.000000  \n",
              "50%                         0.000000                         0.000000  \n",
              "75%                        13.000000                       100.000000  \n",
              "max                       272.000000                       100.000000  \n",
              "\n",
              "[8 rows x 46 columns]"
            ],
            "text/html": [
              "\n",
              "  <div id=\"df-753bf880-89ae-4e7a-acdf-d83c04464d5a\">\n",
              "    <div class=\"colab-df-container\">\n",
              "      <div>\n",
              "<style scoped>\n",
              "    .dataframe tbody tr th:only-of-type {\n",
              "        vertical-align: middle;\n",
              "    }\n",
              "\n",
              "    .dataframe tbody tr th {\n",
              "        vertical-align: top;\n",
              "    }\n",
              "\n",
              "    .dataframe thead th {\n",
              "        text-align: right;\n",
              "    }\n",
              "</style>\n",
              "<table border=\"1\" class=\"dataframe\">\n",
              "  <thead>\n",
              "    <tr style=\"text-align: right;\">\n",
              "      <th></th>\n",
              "      <th>JURISDICTION NAME</th>\n",
              "      <th>COUNT PARTICIPANTS</th>\n",
              "      <th>COUNT FEMALE</th>\n",
              "      <th>PERCENT FEMALE</th>\n",
              "      <th>COUNT MALE</th>\n",
              "      <th>PERCENT MALE</th>\n",
              "      <th>COUNT GENDER UNKNOWN</th>\n",
              "      <th>PERCENT GENDER UNKNOWN</th>\n",
              "      <th>COUNT GENDER TOTAL</th>\n",
              "      <th>PERCENT GENDER TOTAL</th>\n",
              "      <th>...</th>\n",
              "      <th>COUNT CITIZEN STATUS TOTAL</th>\n",
              "      <th>PERCENT CITIZEN STATUS TOTAL</th>\n",
              "      <th>COUNT RECEIVES PUBLIC ASSISTANCE</th>\n",
              "      <th>PERCENT RECEIVES PUBLIC ASSISTANCE</th>\n",
              "      <th>COUNT NRECEIVES PUBLIC ASSISTANCE</th>\n",
              "      <th>PERCENT NRECEIVES PUBLIC ASSISTANCE</th>\n",
              "      <th>COUNT PUBLIC ASSISTANCE UNKNOWN</th>\n",
              "      <th>PERCENT PUBLIC ASSISTANCE UNKNOWN</th>\n",
              "      <th>COUNT PUBLIC ASSISTANCE TOTAL</th>\n",
              "      <th>PERCENT PUBLIC ASSISTANCE TOTAL</th>\n",
              "    </tr>\n",
              "  </thead>\n",
              "  <tbody>\n",
              "    <tr>\n",
              "      <th>count</th>\n",
              "      <td>236.000000</td>\n",
              "      <td>236.000000</td>\n",
              "      <td>236.000000</td>\n",
              "      <td>236.000000</td>\n",
              "      <td>236.000000</td>\n",
              "      <td>236.000000</td>\n",
              "      <td>236.0</td>\n",
              "      <td>236.0</td>\n",
              "      <td>236.000000</td>\n",
              "      <td>236.000000</td>\n",
              "      <td>...</td>\n",
              "      <td>236.000000</td>\n",
              "      <td>236.000000</td>\n",
              "      <td>236.000000</td>\n",
              "      <td>236.000000</td>\n",
              "      <td>236.000000</td>\n",
              "      <td>236.000000</td>\n",
              "      <td>236.0</td>\n",
              "      <td>236.0</td>\n",
              "      <td>236.000000</td>\n",
              "      <td>236.000000</td>\n",
              "    </tr>\n",
              "    <tr>\n",
              "      <th>mean</th>\n",
              "      <td>11127.173729</td>\n",
              "      <td>17.661017</td>\n",
              "      <td>10.296610</td>\n",
              "      <td>0.243983</td>\n",
              "      <td>7.364407</td>\n",
              "      <td>0.201017</td>\n",
              "      <td>0.0</td>\n",
              "      <td>0.0</td>\n",
              "      <td>17.661017</td>\n",
              "      <td>44.491525</td>\n",
              "      <td>...</td>\n",
              "      <td>17.661017</td>\n",
              "      <td>44.487288</td>\n",
              "      <td>5.974576</td>\n",
              "      <td>0.139195</td>\n",
              "      <td>11.686441</td>\n",
              "      <td>0.305805</td>\n",
              "      <td>0.0</td>\n",
              "      <td>0.0</td>\n",
              "      <td>17.661017</td>\n",
              "      <td>44.491525</td>\n",
              "    </tr>\n",
              "    <tr>\n",
              "      <th>std</th>\n",
              "      <td>1052.431790</td>\n",
              "      <td>43.279737</td>\n",
              "      <td>28.189121</td>\n",
              "      <td>0.333677</td>\n",
              "      <td>18.880888</td>\n",
              "      <td>0.295731</td>\n",
              "      <td>0.0</td>\n",
              "      <td>0.0</td>\n",
              "      <td>43.279737</td>\n",
              "      <td>49.801264</td>\n",
              "      <td>...</td>\n",
              "      <td>43.279737</td>\n",
              "      <td>49.796563</td>\n",
              "      <td>16.803729</td>\n",
              "      <td>0.227979</td>\n",
              "      <td>29.369458</td>\n",
              "      <td>0.380602</td>\n",
              "      <td>0.0</td>\n",
              "      <td>0.0</td>\n",
              "      <td>43.279737</td>\n",
              "      <td>49.801264</td>\n",
              "    </tr>\n",
              "    <tr>\n",
              "      <th>min</th>\n",
              "      <td>10001.000000</td>\n",
              "      <td>0.000000</td>\n",
              "      <td>0.000000</td>\n",
              "      <td>0.000000</td>\n",
              "      <td>0.000000</td>\n",
              "      <td>0.000000</td>\n",
              "      <td>0.0</td>\n",
              "      <td>0.0</td>\n",
              "      <td>0.000000</td>\n",
              "      <td>0.000000</td>\n",
              "      <td>...</td>\n",
              "      <td>0.000000</td>\n",
              "      <td>0.000000</td>\n",
              "      <td>0.000000</td>\n",
              "      <td>0.000000</td>\n",
              "      <td>0.000000</td>\n",
              "      <td>0.000000</td>\n",
              "      <td>0.0</td>\n",
              "      <td>0.0</td>\n",
              "      <td>0.000000</td>\n",
              "      <td>0.000000</td>\n",
              "    </tr>\n",
              "    <tr>\n",
              "      <th>25%</th>\n",
              "      <td>10451.750000</td>\n",
              "      <td>0.000000</td>\n",
              "      <td>0.000000</td>\n",
              "      <td>0.000000</td>\n",
              "      <td>0.000000</td>\n",
              "      <td>0.000000</td>\n",
              "      <td>0.0</td>\n",
              "      <td>0.0</td>\n",
              "      <td>0.000000</td>\n",
              "      <td>0.000000</td>\n",
              "      <td>...</td>\n",
              "      <td>0.000000</td>\n",
              "      <td>0.000000</td>\n",
              "      <td>0.000000</td>\n",
              "      <td>0.000000</td>\n",
              "      <td>0.000000</td>\n",
              "      <td>0.000000</td>\n",
              "      <td>0.0</td>\n",
              "      <td>0.0</td>\n",
              "      <td>0.000000</td>\n",
              "      <td>0.000000</td>\n",
              "    </tr>\n",
              "    <tr>\n",
              "      <th>50%</th>\n",
              "      <td>11216.500000</td>\n",
              "      <td>0.000000</td>\n",
              "      <td>0.000000</td>\n",
              "      <td>0.000000</td>\n",
              "      <td>0.000000</td>\n",
              "      <td>0.000000</td>\n",
              "      <td>0.0</td>\n",
              "      <td>0.0</td>\n",
              "      <td>0.000000</td>\n",
              "      <td>0.000000</td>\n",
              "      <td>...</td>\n",
              "      <td>0.000000</td>\n",
              "      <td>0.000000</td>\n",
              "      <td>0.000000</td>\n",
              "      <td>0.000000</td>\n",
              "      <td>0.000000</td>\n",
              "      <td>0.000000</td>\n",
              "      <td>0.0</td>\n",
              "      <td>0.0</td>\n",
              "      <td>0.000000</td>\n",
              "      <td>0.000000</td>\n",
              "    </tr>\n",
              "    <tr>\n",
              "      <th>75%</th>\n",
              "      <td>11422.250000</td>\n",
              "      <td>13.000000</td>\n",
              "      <td>6.000000</td>\n",
              "      <td>0.515000</td>\n",
              "      <td>4.000000</td>\n",
              "      <td>0.400000</td>\n",
              "      <td>0.0</td>\n",
              "      <td>0.0</td>\n",
              "      <td>13.000000</td>\n",
              "      <td>100.000000</td>\n",
              "      <td>...</td>\n",
              "      <td>13.000000</td>\n",
              "      <td>100.000000</td>\n",
              "      <td>3.250000</td>\n",
              "      <td>0.252500</td>\n",
              "      <td>8.000000</td>\n",
              "      <td>0.662500</td>\n",
              "      <td>0.0</td>\n",
              "      <td>0.0</td>\n",
              "      <td>13.000000</td>\n",
              "      <td>100.000000</td>\n",
              "    </tr>\n",
              "    <tr>\n",
              "      <th>max</th>\n",
              "      <td>20459.000000</td>\n",
              "      <td>272.000000</td>\n",
              "      <td>194.000000</td>\n",
              "      <td>1.000000</td>\n",
              "      <td>157.000000</td>\n",
              "      <td>1.000000</td>\n",
              "      <td>0.0</td>\n",
              "      <td>0.0</td>\n",
              "      <td>272.000000</td>\n",
              "      <td>100.000000</td>\n",
              "      <td>...</td>\n",
              "      <td>272.000000</td>\n",
              "      <td>100.000000</td>\n",
              "      <td>155.000000</td>\n",
              "      <td>1.000000</td>\n",
              "      <td>206.000000</td>\n",
              "      <td>1.000000</td>\n",
              "      <td>0.0</td>\n",
              "      <td>0.0</td>\n",
              "      <td>272.000000</td>\n",
              "      <td>100.000000</td>\n",
              "    </tr>\n",
              "  </tbody>\n",
              "</table>\n",
              "<p>8 rows × 46 columns</p>\n",
              "</div>\n",
              "      <button class=\"colab-df-convert\" onclick=\"convertToInteractive('df-753bf880-89ae-4e7a-acdf-d83c04464d5a')\"\n",
              "              title=\"Convert this dataframe to an interactive table.\"\n",
              "              style=\"display:none;\">\n",
              "        \n",
              "  <svg xmlns=\"http://www.w3.org/2000/svg\" height=\"24px\"viewBox=\"0 0 24 24\"\n",
              "       width=\"24px\">\n",
              "    <path d=\"M0 0h24v24H0V0z\" fill=\"none\"/>\n",
              "    <path d=\"M18.56 5.44l.94 2.06.94-2.06 2.06-.94-2.06-.94-.94-2.06-.94 2.06-2.06.94zm-11 1L8.5 8.5l.94-2.06 2.06-.94-2.06-.94L8.5 2.5l-.94 2.06-2.06.94zm10 10l.94 2.06.94-2.06 2.06-.94-2.06-.94-.94-2.06-.94 2.06-2.06.94z\"/><path d=\"M17.41 7.96l-1.37-1.37c-.4-.4-.92-.59-1.43-.59-.52 0-1.04.2-1.43.59L10.3 9.45l-7.72 7.72c-.78.78-.78 2.05 0 2.83L4 21.41c.39.39.9.59 1.41.59.51 0 1.02-.2 1.41-.59l7.78-7.78 2.81-2.81c.8-.78.8-2.07 0-2.86zM5.41 20L4 18.59l7.72-7.72 1.47 1.35L5.41 20z\"/>\n",
              "  </svg>\n",
              "      </button>\n",
              "      \n",
              "  <style>\n",
              "    .colab-df-container {\n",
              "      display:flex;\n",
              "      flex-wrap:wrap;\n",
              "      gap: 12px;\n",
              "    }\n",
              "\n",
              "    .colab-df-convert {\n",
              "      background-color: #E8F0FE;\n",
              "      border: none;\n",
              "      border-radius: 50%;\n",
              "      cursor: pointer;\n",
              "      display: none;\n",
              "      fill: #1967D2;\n",
              "      height: 32px;\n",
              "      padding: 0 0 0 0;\n",
              "      width: 32px;\n",
              "    }\n",
              "\n",
              "    .colab-df-convert:hover {\n",
              "      background-color: #E2EBFA;\n",
              "      box-shadow: 0px 1px 2px rgba(60, 64, 67, 0.3), 0px 1px 3px 1px rgba(60, 64, 67, 0.15);\n",
              "      fill: #174EA6;\n",
              "    }\n",
              "\n",
              "    [theme=dark] .colab-df-convert {\n",
              "      background-color: #3B4455;\n",
              "      fill: #D2E3FC;\n",
              "    }\n",
              "\n",
              "    [theme=dark] .colab-df-convert:hover {\n",
              "      background-color: #434B5C;\n",
              "      box-shadow: 0px 1px 3px 1px rgba(0, 0, 0, 0.15);\n",
              "      filter: drop-shadow(0px 1px 2px rgba(0, 0, 0, 0.3));\n",
              "      fill: #FFFFFF;\n",
              "    }\n",
              "  </style>\n",
              "\n",
              "      <script>\n",
              "        const buttonEl =\n",
              "          document.querySelector('#df-753bf880-89ae-4e7a-acdf-d83c04464d5a button.colab-df-convert');\n",
              "        buttonEl.style.display =\n",
              "          google.colab.kernel.accessAllowed ? 'block' : 'none';\n",
              "\n",
              "        async function convertToInteractive(key) {\n",
              "          const element = document.querySelector('#df-753bf880-89ae-4e7a-acdf-d83c04464d5a');\n",
              "          const dataTable =\n",
              "            await google.colab.kernel.invokeFunction('convertToInteractive',\n",
              "                                                     [key], {});\n",
              "          if (!dataTable) return;\n",
              "\n",
              "          const docLinkHtml = 'Like what you see? Visit the ' +\n",
              "            '<a target=\"_blank\" href=https://colab.research.google.com/notebooks/data_table.ipynb>data table notebook</a>'\n",
              "            + ' to learn more about interactive tables.';\n",
              "          element.innerHTML = '';\n",
              "          dataTable['output_type'] = 'display_data';\n",
              "          await google.colab.output.renderOutput(dataTable, element);\n",
              "          const docLink = document.createElement('div');\n",
              "          docLink.innerHTML = docLinkHtml;\n",
              "          element.appendChild(docLink);\n",
              "        }\n",
              "      </script>\n",
              "    </div>\n",
              "  </div>\n",
              "  "
            ]
          },
          "metadata": {},
          "execution_count": 19
        }
      ]
    },
    {
      "cell_type": "code",
      "source": [
        "a_CRPA = df_CRPA.drop([\"COUNT RECEIVES PUBLIC ASSISTANCE\"],axis=1)\n",
        "b_CRPA = df_CRPA[\"COUNT RECEIVES PUBLIC ASSISTANCE\"]"
      ],
      "metadata": {
        "id": "7B83vQeS8IfF"
      },
      "execution_count": 22,
      "outputs": []
    },
    {
      "cell_type": "code",
      "source": [
        "a_CRPA_train, a_CRPA_test, b_CRPA_train, b_CRPA_test = train_test_split(a_CRPA,b_CRPA, random_state=42)"
      ],
      "metadata": {
        "id": "dwHeaWU7I1nq"
      },
      "execution_count": 23,
      "outputs": []
    },
    {
      "cell_type": "code",
      "source": [
        "regressor_lgbm = lgb.LGBMRegressor()\n",
        "\n",
        "cross_val_score(regressor_lgbm,a_CRPA_train,b_CRPA_train,scoring=\"neg_root_mean_squared_error\").mean()"
      ],
      "metadata": {
        "colab": {
          "base_uri": "https://localhost:8080/"
        },
        "id": "WBzdhV9vSx37",
        "outputId": "59b43207-c921-4628-fba8-41c20b751b29"
      },
      "execution_count": 29,
      "outputs": [
        {
          "output_type": "execute_result",
          "data": {
            "text/plain": [
              "-10.461582988609774"
            ]
          },
          "metadata": {},
          "execution_count": 29
        }
      ]
    },
    {
      "cell_type": "code",
      "source": [
        "regressor_lgbm_max_depth = lgb.LGBMRegressor(max_depth=2)\n",
        "\n",
        "cross_val_score(regressor_lgbm_max_depth,a_CRPA_train,b_CRPA_train,scoring=\"neg_root_mean_squared_error\").mean()"
      ],
      "metadata": {
        "colab": {
          "base_uri": "https://localhost:8080/"
        },
        "id": "Dy4FTVfsWJN5",
        "outputId": "fd779053-6971-47cc-a95b-9c9a151adcc5"
      },
      "execution_count": 30,
      "outputs": [
        {
          "output_type": "execute_result",
          "data": {
            "text/plain": [
              "-10.282484059515738"
            ]
          },
          "metadata": {},
          "execution_count": 30
        }
      ]
    },
    {
      "cell_type": "code",
      "source": [
        "regressor_lgbm_dart = lgb.LGBMRegressor(boosting_type=\"dart\")\n",
        "cross_val_score(regressor_lgbm_dart,a_CRPA_train,b_CRPA_train,scoring=\"neg_root_mean_squared_error\").mean()"
      ],
      "metadata": {
        "colab": {
          "base_uri": "https://localhost:8080/"
        },
        "id": "mUZ6gHQKUnE_",
        "outputId": "8cd71470-3685-4cac-ee72-d730a2bcffd3"
      },
      "execution_count": 31,
      "outputs": [
        {
          "output_type": "execute_result",
          "data": {
            "text/plain": [
              "-10.95316426554756"
            ]
          },
          "metadata": {},
          "execution_count": 31
        }
      ]
    },
    {
      "cell_type": "code",
      "source": [
        "regressor_final = regressor_lgbm_max_depth"
      ],
      "metadata": {
        "id": "1glaLGylTB_v"
      },
      "execution_count": 32,
      "outputs": []
    },
    {
      "cell_type": "code",
      "source": [
        "regressor_final.fit(a_CRPA_train,b_CRPA_train, eval_metric=\"\")"
      ],
      "metadata": {
        "colab": {
          "base_uri": "https://localhost:8080/"
        },
        "id": "-HLDo53lTLJR",
        "outputId": "200b4914-4aaa-41ac-c502-4eba572486bc"
      },
      "execution_count": 33,
      "outputs": [
        {
          "output_type": "execute_result",
          "data": {
            "text/plain": [
              "LGBMRegressor(max_depth=2)"
            ]
          },
          "metadata": {},
          "execution_count": 33
        }
      ]
    },
    {
      "cell_type": "code",
      "source": [
        "predicoes_CRPA = regressor_final.predict(a_CRPA_test)\n",
        "predicoes_CRPA[:10]"
      ],
      "metadata": {
        "colab": {
          "base_uri": "https://localhost:8080/"
        },
        "id": "sTWvAr6LZfHA",
        "outputId": "904d2d7d-89ef-405d-c91f-f42fb2293419"
      },
      "execution_count": 35,
      "outputs": [
        {
          "output_type": "execute_result",
          "data": {
            "text/plain": [
              "array([ 8.54279237,  0.51457235, -0.68572807,  1.42540969,  3.68069301,\n",
              "       -0.27602544, 48.1982388 , -0.27602544,  0.20305194,  3.19703517])"
            ]
          },
          "metadata": {},
          "execution_count": 35
        }
      ]
    },
    {
      "cell_type": "code",
      "source": [
        "b_CRPA_test[:10]"
      ],
      "metadata": {
        "colab": {
          "base_uri": "https://localhost:8080/"
        },
        "id": "7PiPwmcHZ-i4",
        "outputId": "7b9d0af6-4398-4d9b-8b5d-a80a8377beab"
      },
      "execution_count": 36,
      "outputs": [
        {
          "output_type": "execute_result",
          "data": {
            "text/plain": [
              "69      3\n",
              "190     0\n",
              "181     0\n",
              "9       0\n",
              "127     4\n",
              "109     0\n",
              "229    77\n",
              "93      0\n",
              "150     0\n",
              "15      0\n",
              "Name: COUNT RECEIVES PUBLIC ASSISTANCE, dtype: int64"
            ]
          },
          "metadata": {},
          "execution_count": 36
        }
      ]
    },
    {
      "cell_type": "code",
      "source": [
        "mse = mean_squared_error(b_CRPA_test, predicoes_CRPA)\n",
        "display(mse)\n",
        "\n",
        "rmse = math.sqrt(mse)\n",
        "rmse"
      ],
      "metadata": {
        "colab": {
          "base_uri": "https://localhost:8080/",
          "height": 52
        },
        "id": "9q_iYKf6aE_J",
        "outputId": "4fecbb15-33bb-4aaa-bf2d-fe34c8ed2c37"
      },
      "execution_count": 38,
      "outputs": [
        {
          "output_type": "display_data",
          "data": {
            "text/plain": [
              "72.3909076456381"
            ]
          },
          "metadata": {}
        },
        {
          "output_type": "execute_result",
          "data": {
            "text/plain": [
              "8.508284647661837"
            ]
          },
          "metadata": {},
          "execution_count": 38
        }
      ]
    },
    {
      "cell_type": "code",
      "source": [],
      "metadata": {
        "id": "V1Kt5Jm_bV7W"
      },
      "execution_count": null,
      "outputs": []
    }
  ]
}